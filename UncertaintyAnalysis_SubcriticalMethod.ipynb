{
  "nbformat": 4,
  "nbformat_minor": 0,
  "metadata": {
    "colab": {
      "provenance": [],
      "toc_visible": true
    },
    "kernelspec": {
      "name": "python3",
      "display_name": "Python 3"
    },
    "language_info": {
      "name": "python"
    }
  },
  "cells": [
    {
      "cell_type": "code",
      "source": [
        "import numpy as np\n",
        "from scipy.optimize import fsolve\n",
        "import matplotlib.pyplot as plt\n",
        "import sympy as sp"
      ],
      "metadata": {
        "id": "KqD4Uv8bRNLx"
      },
      "execution_count": null,
      "outputs": []
    },
    {
      "cell_type": "markdown",
      "source": [
        "###DATA"
      ],
      "metadata": {
        "id": "J-TH6W_MXXpk"
      }
    },
    {
      "cell_type": "code",
      "source": [
        "beta = 0.0073\n",
        "t = 100 #Counting time in seconds (s)"
      ],
      "metadata": {
        "id": "fB71pYpXXGzw"
      },
      "execution_count": null,
      "outputs": []
    },
    {
      "cell_type": "markdown",
      "source": [
        "###BACKGROUND"
      ],
      "metadata": {
        "id": "C3Tj-bOUfav1"
      }
    },
    {
      "cell_type": "code",
      "source": [
        "#Counts\n",
        "N_count_background = [4,2,0]\n",
        "N_count_background = np.array(N_count_background)\n",
        "std_count_background = np.sqrt(N_count_background) #Since the measurmentes of the fission chamber are Poisson like i can take the standard deviation as the square root\n",
        "Mean_count_background = sum(N_count_background)/(len(N_count_background)) #Mean count\n",
        "Mean_std_background = np.sqrt(Mean_count_background/len(N_count_background)) #Mean standard deviation\n",
        "\n",
        "#Counting rate\n",
        "N_cps_background = np.array(N_count_background)/t\n",
        "std_cps_background = np.sqrt(N_cps_background)\n",
        "Mean_cps_background = sum(N_cps_background)/(len(N_count_background)) #Mean count in cps\n",
        "Mean_std_cps_background = Mean_std_background/t #Mean standard deviation in cps"
      ],
      "metadata": {
        "id": "pnA11iaxfev9"
      },
      "execution_count": null,
      "outputs": []
    },
    {
      "cell_type": "markdown",
      "source": [
        "###ALL IN"
      ],
      "metadata": {
        "id": "05Uw8FHgWj4r"
      }
    },
    {
      "cell_type": "code",
      "source": [
        "#Counts\n",
        "N_count_all_in = [1002,1118,1079,1135,1006]\n",
        "N_count_all_in = np.array(N_count_all_in)\n",
        "std_count_all_in = np.sqrt(N_count_all_in) #Since the measurmentes of the fission chamber are Poisson like i can take the standard deviation as the square root\n",
        "Mean_count_all_in = (sum(N_count_all_in)/(len(N_count_all_in))) #Mean count\n",
        "Mean_std_all_in = np.sqrt(Mean_count_all_in/len(N_count_all_in)) #Mean standard deviation\n",
        "\n",
        "#Counting rate\n",
        "N_cps_all_in = N_count_all_in/t\n",
        "std_cps_all_in = np.sqrt(N_cps_all_in)\n",
        "Mean_cps_all_in = (sum(N_cps_all_in)/(len(N_cps_all_in))) #Mean count in cps\n",
        "Mean_std_cps_all_in = Mean_std_all_in/t #Mean standard deviation in cps\n",
        "\n",
        "\n",
        "#Propagation of uncertainty of the Background count. Correcting CR_all_in with the CR_background\n",
        "x = sp.symbols('CR_all_in_Misured')\n",
        "y = sp.symbols('CR_background')\n",
        "f =  x-y\n",
        "x_prime = sp.diff(f, x) #Partial derivative of CR_all_in respect to CR_all_in_misured\n",
        "y_prime = sp.diff(f,y) #Partial derivative of CR_all_in respect to CR_background\n",
        "\n",
        "partial_CR_all_in_CR_all_in_misured = 1\n",
        "partial_CR_all_in_CR_background = -1\n",
        "\n",
        "std_CR_all_in = ((partial_CR_all_in_CR_all_in_misured*Mean_std_cps_all_in)**2 + (partial_CR_all_in_CR_background *Mean_std_cps_background)**2)**(1/2)\n",
        "\n",
        "CR_all_in_PLUS = Mean_cps_all_in+std_CR_all_in\n",
        "CR_all_in_MINUS = Mean_cps_all_in-std_CR_all_in\n",
        "\n",
        "print(\"Standard deviation of CR_all_in is:\",std_CR_all_in)\n",
        "print(\"CR_all_in_PLUS:\",CR_all_in_PLUS)\n",
        "print(\"CR_all_in_MINUS:\",CR_all_in_MINUS)\n",
        "print('CR_all_in:',Mean_cps_all_in,'±',std_CR_all_in)"
      ],
      "metadata": {
        "id": "PgAQgD_NWoOB",
        "colab": {
          "base_uri": "https://localhost:8080/"
        },
        "outputId": "58909670-1650-4305-dd9c-980d2aaab296"
      },
      "execution_count": null,
      "outputs": [
        {
          "output_type": "stream",
          "name": "stdout",
          "text": [
            "Standard deviation of CR_all_in is: 0.14637850479720943\n",
            "CR_all_in_PLUS: 10.826378504797209\n",
            "CR_all_in_MINUS: 10.533621495202791\n",
            "CR_all_in: 10.68 ± 0.14637850479720943\n"
          ]
        }
      ]
    },
    {
      "cell_type": "markdown",
      "source": [
        "###REG OUT"
      ],
      "metadata": {
        "id": "8Q80VeQIj5fe"
      }
    },
    {
      "cell_type": "code",
      "source": [
        "#Counts\n",
        "N_count_Reg_out = [1381,1580,1592,1497,1577]\n",
        "N_count_Reg_out = np.array(N_count_Reg_out)\n",
        "Mean_count_Reg_out = (sum(N_count_Reg_out)/(len(N_count_Reg_out))) #Mean count\n",
        "Mean_std_Reg_out = np.sqrt(Mean_count_Reg_out/len(N_count_Reg_out))  #Mean standard deviation\n",
        "\n",
        "#Counting rate\n",
        "N_cps_Reg_out = N_count_Reg_out/t\n",
        "std_cps_Reg_out = np.sqrt(N_cps_Reg_out)\n",
        "Mean_cps_Reg_out = (sum(N_cps_Reg_out)/(len(N_cps_Reg_out))) #Mean count in cps\n",
        "Mean_std_cps_Reg_out = Mean_std_Reg_out/t #Mean standard deviation in cps\n",
        "\n",
        "\n",
        "#Propagation of uncertainty of the Background count. Correcting CR_reg_out with the CR_background\n",
        "x = sp.symbols('CR_reg_out_Misured')\n",
        "y = sp.symbols('CR_background')\n",
        "f =  x-y\n",
        "x_prime = sp.diff(f, x) #Partial derivative of CR_reg_out respect to CR_reg_misured\n",
        "y_prime = sp.diff(f,y) #Partial derivative of CR_reg_out respect to CR_background\n",
        "\n",
        "partial_CR_reg_out_CR_reg_misured = 1\n",
        "partial_CR_reg_out_CR_background = -1\n",
        "\n",
        "std_CR_reg_out = ((partial_CR_reg_out_CR_reg_misured*Mean_std_cps_Reg_out)**2 + (partial_CR_reg_out_CR_background*Mean_std_cps_background)**2)**(1/2)\n",
        "\n",
        "CR_reg_out_PLUS = Mean_cps_Reg_out+std_CR_reg_out\n",
        "CR_reg_out_MINUS = Mean_cps_Reg_out-std_CR_reg_out\n",
        "\n",
        "print(\"Standard deviation of CR_reg_out is:\",std_CR_reg_out)\n",
        "print(\"CR_reg_out_PLUS:\",CR_reg_out_PLUS)\n",
        "print(\"CR_reg_out_MINUS:\",CR_reg_out_MINUS)\n",
        "print('CR_reg_out:',Mean_cps_Reg_out,'±',std_CR_reg_out)"
      ],
      "metadata": {
        "id": "ySCiWKk8j9JB",
        "colab": {
          "base_uri": "https://localhost:8080/"
        },
        "outputId": "ebfffd64-8fab-4792-cba2-b8f194428743"
      },
      "execution_count": null,
      "outputs": [
        {
          "output_type": "stream",
          "name": "stdout",
          "text": [
            "Standard deviation of CR_reg_out is: 0.17485613133849973\n",
            "CR_reg_out_PLUS: 15.428856131338499\n",
            "CR_reg_out_MINUS: 15.0791438686615\n",
            "CR_reg_out: 15.254 ± 0.17485613133849973\n"
          ]
        }
      ]
    },
    {
      "cell_type": "markdown",
      "source": [
        "###TRANS OUT"
      ],
      "metadata": {
        "id": "SruG7b20kFCG"
      }
    },
    {
      "cell_type": "code",
      "source": [
        "# Counts\n",
        "N_count_Trans_out = [2578,2590,2431,2392,2482]\n",
        "N_count_Trans_out = np.array(N_count_Trans_out)\n",
        "Mean_count_Trans_out = (sum(N_count_Trans_out) / len(N_count_Trans_out))  # Mean count\n",
        "Mean_std_Trans_out = np.sqrt(Mean_count_Trans_out / len(N_count_Trans_out))  # Mean standard deviation\n",
        "\n",
        "# Counting rate\n",
        "N_cps_Trans_out = N_count_Trans_out / t\n",
        "std_cps_Trans_out = np.sqrt(N_cps_Trans_out)\n",
        "Mean_cps_Trans_out = (sum(N_cps_Trans_out) / len(N_cps_Trans_out))  # Mean count in cps\n",
        "Mean_std_cps_Trans_out = Mean_std_Trans_out / t  # Mean standard deviation in cps\n",
        "\n",
        "\n",
        "#Propagation of uncertainty of the Background count. Correcting CR_trans_out with the CR_background\n",
        "x = sp.symbols('CR_trans_out_Misured')\n",
        "y = sp.symbols('CR_background')\n",
        "f =  x-y\n",
        "x_prime = sp.diff(f, x) #Partial derivative of CR_reg_out respect to CR_reg_misured\n",
        "y_prime = sp.diff(f,y) #Partial derivative of CR_reg_out respect to CR_background\n",
        "\n",
        "partial_CR_trans_out_CR_trans_misured = 1\n",
        "partial_CR_trans_out_CR_background = -1\n",
        "\n",
        "std_CR_trans_out = ((partial_CR_trans_out_CR_trans_misured*Mean_std_cps_Trans_out)**2 + (partial_CR_trans_out_CR_background*Mean_std_cps_background)**2)**(1/2)\n",
        "\n",
        "CR_trans_out_PLUS = Mean_cps_Trans_out+std_CR_trans_out\n",
        "CR_trans_out_MINUS = Mean_cps_Trans_out-std_CR_trans_out\n",
        "\n",
        "print(\"Standard deviation of CR_trans_out is:\",std_CR_trans_out)\n",
        "print(\"CR_trans_out_PLUS:\",CR_trans_out_PLUS)\n",
        "print(\"CR_trans_out_MINUS:\",CR_trans_out_MINUS)\n",
        "print('CR_trans_out:',Mean_cps_Trans_out,'±',std_CR_trans_out)"
      ],
      "metadata": {
        "id": "HUkyaV9LkH9Q",
        "colab": {
          "base_uri": "https://localhost:8080/"
        },
        "outputId": "a41ec184-810c-4a81-f0d5-376ca1eec4bd"
      },
      "execution_count": null,
      "outputs": [
        {
          "output_type": "stream",
          "name": "stdout",
          "text": [
            "Standard deviation of CR_trans_out is: 0.22342485686840366\n",
            "CR_trans_out_PLUS: 25.149424856868404\n",
            "CR_trans_out_MINUS: 24.702575143131593\n",
            "CR_trans_out: 24.926 ± 0.22342485686840366\n"
          ]
        }
      ]
    },
    {
      "cell_type": "markdown",
      "source": [
        "###SHIM OUT"
      ],
      "metadata": {
        "id": "letKRGt8k0IQ"
      }
    },
    {
      "cell_type": "code",
      "source": [
        "# Counts\n",
        "N_count_Shim_out = [4440,4360,4340,4294,4447]\n",
        "N_count_Shim_out = np.array(N_count_Shim_out)\n",
        "Mean_count_Shim_out = (sum(N_count_Shim_out) / len(N_count_Shim_out))  # Mean count\n",
        "Mean_std_Shim_out = np.sqrt(Mean_count_Shim_out / len(N_count_Shim_out))  # Mean standard deviation\n",
        "\n",
        "# Counting rate\n",
        "N_cps_Shim_out = N_count_Shim_out / t\n",
        "std_cps_Shim_out = np.sqrt(N_cps_Shim_out)\n",
        "Mean_cps_Shim_out = (sum(N_cps_Shim_out) / len(N_cps_Shim_out))  # Mean count in cps\n",
        "Mean_std_cps_Shim_out = Mean_std_Shim_out / t  # Mean standard deviation in cps\n",
        "\n",
        "\n",
        "#Propagation of uncertainty of the Background count. Correcting CR_shim_out with the CR_background\n",
        "x = sp.symbols('CR_shim_out_Misured')\n",
        "y = sp.symbols('CR_background')\n",
        "f =  x - y\n",
        "x_prime = sp.diff(f, x)\n",
        "y_prime = sp.diff(f, y)\n",
        "\n",
        "partial_CR_shim_out_CR_shim_misured = 1\n",
        "partial_CR_shim_out_CR_background = -1\n",
        "\n",
        "std_CR_shim_out = ((partial_CR_shim_out_CR_shim_misured * Mean_std_cps_Shim_out)**2 + (partial_CR_shim_out_CR_background * Mean_std_cps_background)**2)**(1/2)\n",
        "\n",
        "CR_shim_out_PLUS = Mean_cps_Shim_out + std_CR_shim_out\n",
        "CR_shim_out_MINUS = Mean_cps_Shim_out - std_CR_shim_out\n",
        "\n",
        "print(\"Standard deviation of CR_shim_out is:\", std_CR_shim_out)\n",
        "print(\"CR_shim_out_PLUS:\", CR_shim_out_PLUS)\n",
        "print(\"CR_shim_out_MINUS:\", CR_shim_out_MINUS)\n",
        "print('CR_shim_out:', Mean_cps_Shim_out, '±', std_CR_shim_out)"
      ],
      "metadata": {
        "id": "nVCu1h8wk2MM",
        "colab": {
          "base_uri": "https://localhost:8080/"
        },
        "outputId": "d16d0006-b127-4eed-ac74-e5c36f8fb006"
      },
      "execution_count": null,
      "outputs": [
        {
          "output_type": "stream",
          "name": "stdout",
          "text": [
            "Standard deviation of CR_shim_out is: 0.2959572041134776\n",
            "CR_shim_out_PLUS: 44.05795720411348\n",
            "CR_shim_out_MINUS: 43.46604279588652\n",
            "CR_shim_out: 43.762 ± 0.2959572041134776\n"
          ]
        }
      ]
    },
    {
      "cell_type": "markdown",
      "source": [
        "###UNCERTAINTY PROPAGATION: REG OUT\n",
        "Nota: ogni volta sovrascrivo le variabili (From Excel calculation), quindi runnare singolarmente ogni sezione"
      ],
      "metadata": {
        "id": "hpW3uGk_UFu6"
      }
    },
    {
      "cell_type": "code",
      "execution_count": null,
      "metadata": {
        "id": "7yB5X9OkTJxR"
      },
      "outputs": [],
      "source": [
        "#Uncertainty propagation from one variable to another:\n",
        "\n",
        "# 1. CR_reg_out/CR_all_in---> rho_all_in\n",
        "# 2. rho_all_in---> M_all_in\n",
        "# 3. M_all_in---> alfa_phi_s\n",
        "# 4. alfa_phi_s---> M_reg_out , M_trans_out , M_shim_out\n",
        "# 5. M_reg_out , M_trans_out , M_shim_out---> rho_reg_out , rho_trans_out, rho_shim_out\n",
        "# 6. rho_reg_out , rho_trans_out, rho_shim_out--->CRW_Reg_out , CRW_Trans_out , CRW_Shim_out\n",
        "\n",
        "\n",
        "#From ExceL calculation (REG OUT)\n",
        "rho_all_IN = -0.02837\n",
        "M_all_in = 36.24\n",
        "alpha_phi_s = 0.2941\n",
        "M_reg_out = 51.79\n",
        "M_trans_out = 84.75\n",
        "M_shim_out = 148.72\n",
        "rho_reg_out = -0.0197\n",
        "rho_trans_out = -0.0119\n",
        "rho_shim_out = -0.0068\n",
        "CRW_Reg = 1.19*beta\n",
        "CRW_Trans = 2.25*beta\n",
        "CRW_Shim = 2.96*beta"
      ]
    },
    {
      "cell_type": "code",
      "source": [
        "# (REG OUT)\n",
        "# 1. CR_reg_out/CR_all_in----> rho_all_in\n",
        "x = sp.symbols('CR_reg_out')\n",
        "y = sp.symbols('CR_all_in')\n",
        "A = CRW_Reg\n",
        "f = (-x/y*A + x/y + A -1 -((x/y*A -x/y - A+1)**2 + 4*(x/y -1)*(A*x/y))**(1/2))/(2*(x/y-1))\n",
        "x_prime = sp.diff(f, x) #Partial derivative of rho_all_in respect to CR_reg_out\n",
        "y_prime = sp.diff(f,y) #Partial derivative of rho_all_in respect to CR_all_in\n",
        "x_value = Mean_cps_Reg_out-Mean_cps_background #Count rate for CR_reg_out\n",
        "y_value = Mean_cps_all_in-Mean_cps_background #Count rate for CR_all_in\n",
        "partial_rho_all_in_CR_reg_out = x_prime.subs({x:x_value,y:y_value})\n",
        "partial_rho_all_in_CR_all_in = y_prime.subs({x:x_value, y:y_value})\n",
        "\n",
        "std_rho_all_in = ((partial_rho_all_in_CR_reg_out*std_CR_reg_out)**2 + (partial_rho_all_in_CR_reg_out*std_CR_all_in)**2)**(1/2)\n",
        "\n",
        "rho_all_in_PLUS = rho_all_IN+std_rho_all_in\n",
        "rho_all_in_MINUS = rho_all_IN-std_rho_all_in\n",
        "\n",
        "print(\"Standard deviation of rho_all_in is:\",std_rho_all_in)\n",
        "print(\"Rho_all_in_PLUS:\",rho_all_in_PLUS)\n",
        "print(\"Rho_all_in_MINUS:\",rho_all_in_MINUS)\n",
        "print('Rho_all_in:',rho_all_IN, '±',std_rho_all_in)"
      ],
      "metadata": {
        "colab": {
          "base_uri": "https://localhost:8080/"
        },
        "id": "fE4LllGbb_ZH",
        "outputId": "817303d1-8c1a-45ff-d806-401be9305ab6"
      },
      "execution_count": null,
      "outputs": [
        {
          "output_type": "stream",
          "name": "stdout",
          "text": [
            "Standard deviation of rho_all_in is: 0.000963064503658394\n",
            "Rho_all_in_PLUS: -0.0274069354963416\n",
            "Rho_all_in_MINUS: -0.0293330645036584\n",
            "Rho_all_in: -0.02837 ± 0.000963064503658394\n"
          ]
        }
      ]
    },
    {
      "cell_type": "markdown",
      "source": [
        "###UNCERTAINTY PROPAGATION: TRANS OUT\n",
        "######Nota: ogni volta sovrascrivo le variabili (From Excel calculation), quindi runnare singolarmente ogni sezione"
      ],
      "metadata": {
        "id": "lOYbon25rJSF"
      }
    },
    {
      "cell_type": "code",
      "source": [
        "#Uncertainty propagation from one variable to another:\n",
        "\n",
        "# 1. CR_trans_out/CR_all_in---> rho_all_in\n",
        "# 2. rho_all_in---> M_all_in\n",
        "# 3. M_all_in---> alfa_phi_s\n",
        "# 4. alfa_phi_s---> M_reg_out , M_trans_out , M_shim_out\n",
        "# 5. M_reg_out , M_trans_out , M_shim_out---> rho_reg_out , rho_trans_out, rho_shim_out\n",
        "# 6. rho_reg_out , rho_trans_out, rho_shim_out--->CRW_Reg_out , CRW_Trans_out , CRW_Shim_out\n",
        "\n",
        "\n",
        "#From ExceL calculation (TRANS OUT)\n",
        "rho_all_IN = -0.02811\n",
        "M_all_in = 36.57\n",
        "alpha_phi_s = 0.2915\n",
        "M_reg_out = 52.27\n",
        "M_trans_out = 85.52\n",
        "M_shim_out = 150.08\n",
        "rho_reg_out = -0.0195\n",
        "rho_trans_out = -0.0118\n",
        "rho_shim_out = -0.0067\n",
        "CRW_Reg = 1.18*beta\n",
        "CRW_Trans = 2.23*beta\n",
        "CRW_Shim = 2.93*beta"
      ],
      "metadata": {
        "id": "9NWq0ZQ9rPFG"
      },
      "execution_count": null,
      "outputs": []
    },
    {
      "cell_type": "code",
      "source": [
        "# (TRANS OUT)\n",
        "# 1. CR_trans_out/CR_all_in ----> rho_all_in\n",
        "x = sp.symbols('CR_trans_out')\n",
        "y = sp.symbols('CR_all_in')\n",
        "A = CRW_Trans\n",
        "f = (-x/y*A + x/y + A -1 -((x/y*A -x/y - A+1)**2 + 4*(x/y -1)*(A*x/y))**(1/2))/(2*(x/y-1))\n",
        "x_prime = sp.diff(f, x) #Partial derivative of rho_all_in respect to CR_trans_out\n",
        "y_prime = sp.diff(f, y) #Partial derivative of rho_all_in respect to CR_all_in\n",
        "x_value = Mean_cps_Trans_out-Mean_cps_background #Count rate for CR_trans_out\n",
        "y_value = Mean_cps_all_in-Mean_cps_background #Count rate for CR_all_in\n",
        "partial_rho_all_in_CR_trans_out = x_prime.subs({x: x_value, y: y_value})\n",
        "partial_rho_all_in_CR_all_in = y_prime.subs({x: x_value, y: y_value})\n",
        "\n",
        "std_rho_all_in = ((partial_rho_all_in_CR_trans_out * std_CR_trans_out)**2 + (partial_rho_all_in_CR_all_in * std_CR_all_in)**2)**(1/2)\n",
        "\n",
        "rho_all_in_PLUS = rho_all_IN + std_rho_all_in\n",
        "rho_all_in_MINUS = rho_all_IN - std_rho_all_in\n",
        "\n",
        "print(\"Standard deviation of rho_all_in is:\", std_rho_all_in)\n",
        "print(\"Rho_all_in_PLUS:\", rho_all_in_PLUS)\n",
        "print(\"Rho_all_in_MINUS:\", rho_all_in_MINUS)\n",
        "print('Rho_all_in:', rho_all_IN, '±', std_rho_all_in)"
      ],
      "metadata": {
        "colab": {
          "base_uri": "https://localhost:8080/"
        },
        "id": "2e9Xy0WetBHA",
        "outputId": "0cde9abe-4592-4aae-8b59-bb8542cea58e"
      },
      "execution_count": null,
      "outputs": [
        {
          "output_type": "stream",
          "name": "stdout",
          "text": [
            "Standard deviation of rho_all_in is: 0.000335877060635710\n",
            "Rho_all_in_PLUS: -0.0277741229393643\n",
            "Rho_all_in_MINUS: -0.0284458770606357\n",
            "Rho_all_in: -0.02811 ± 0.000335877060635710\n"
          ]
        }
      ]
    },
    {
      "cell_type": "markdown",
      "source": [
        "###UNCERTAINTY PROPAGATION: SHIM OUT\n",
        "Nota: ogni volta sovrascrivo le variabili (From Excel calculation), quindi runnare singolarmente ogni sezione"
      ],
      "metadata": {
        "id": "OGwsAFANxtmb"
      }
    },
    {
      "cell_type": "code",
      "source": [
        "#Uncertainty propagation from one variable to another:\n",
        "\n",
        "# 1. CR_trans_out/CR_all_in---> rho_all_in\n",
        "# 2. rho_all_in---> M_all_in\n",
        "# 3. M_all_in---> alfa_phi_s\n",
        "# 4. alfa_phi_s---> M_reg_out , M_trans_out , M_shim_out\n",
        "# 5. M_reg_out , M_trans_out , M_shim_out---> rho_reg_out , rho_trans_out, rho_shim_out\n",
        "# 6. rho_reg_out , rho_trans_out, rho_shim_out--->CRW_Reg_out , CRW_Trans_out , CRW_Shim_out\n",
        "\n",
        "\n",
        "#From ExceL calculation (TRANS OUT)\n",
        "rho_all_IN = -0.03085\n",
        "M_all_in = 33.41\n",
        "alpha_phi_s = 0.3191\n",
        "M_reg_out = 47.75\n",
        "M_trans_out = 78.12\n",
        "M_shim_out = 137.10\n",
        "rho_reg_out = -0.0214\n",
        "rho_trans_out = -0.013\n",
        "rho_shim_out = -0.0073\n",
        "CRW_Reg = 1.30*beta\n",
        "CRW_Trans = 2.45*beta\n",
        "CRW_Shim = 3.22*beta"
      ],
      "metadata": {
        "id": "YWL0FcX5yF7Z"
      },
      "execution_count": null,
      "outputs": []
    },
    {
      "cell_type": "code",
      "source": [
        "# (SHIM OUT)\n",
        "# 1. CR_shim_out/CR_all_in ----> rho_all_in\n",
        "x = sp.symbols('CR_shim_out')\n",
        "y = sp.symbols('CR_all_in')\n",
        "A = CRW_Shim\n",
        "f = (-x/y*A + x/y + A -1 -((x/y*A -x/y - A+1)**2 + 4*(x/y -1)*(A*x/y))**(1/2))/(2*(x/y-1))\n",
        "x_prime = sp.diff(f, x)  # Partial derivative of rho_all_in respect to CR_shim_out\n",
        "y_prime = sp.diff(f, y)  # Partial derivative of rho_all_in respect to CR_all_in\n",
        "x_value = Mean_cps_Shim_out-Mean_cps_background  # Count rate for CR_shim_out\n",
        "y_value = Mean_cps_all_in-Mean_cps_background  # Count rate for CR_all_in\n",
        "partial_rho_all_in_CR_shim_out = x_prime.subs({x: x_value, y: y_value})\n",
        "partial_rho_all_in_CR_all_in = y_prime.subs({x: x_value, y: y_value})\n",
        "\n",
        "std_rho_all_in = ((partial_rho_all_in_CR_shim_out * std_CR_shim_out)**2 + (partial_rho_all_in_CR_all_in * std_CR_all_in)**2)**(1/2)\n",
        "\n",
        "rho_all_in_PLUS = rho_all_IN + std_rho_all_in\n",
        "rho_all_in_MINUS = rho_all_IN - std_rho_all_in\n",
        "\n",
        "print(\"Standard deviation of rho_all_in is:\", std_rho_all_in)\n",
        "print(\"Rho_all_in_PLUS:\", rho_all_in_PLUS)\n",
        "print(\"Rho_all_in_MINUS:\", rho_all_in_MINUS)\n",
        "print('Rho_all_in:', rho_all_IN, '±', std_rho_all_in)"
      ],
      "metadata": {
        "colab": {
          "base_uri": "https://localhost:8080/"
        },
        "id": "_D3XclLjyJtU",
        "outputId": "cf2a97f7-e446-413e-a746-c52e62b4ca64"
      },
      "execution_count": null,
      "outputs": [
        {
          "output_type": "stream",
          "name": "stdout",
          "text": [
            "Standard deviation of rho_all_in is: 0.000147668364634165\n",
            "Rho_all_in_PLUS: -0.0307023316353658\n",
            "Rho_all_in_MINUS: -0.0309976683646342\n",
            "Rho_all_in: -0.03085 ± 0.000147668364634165\n"
          ]
        }
      ]
    },
    {
      "cell_type": "markdown",
      "source": [
        "### Passaggi da 2--->6\n",
        "Da qui in poi si può runnare: il procedimento è lo stesso, ciò che cambia è la definizione delle variabili precedenti, in base a quale Δρ_worth presa di riferimento"
      ],
      "metadata": {
        "id": "xbmGZ8S7w_Oo"
      }
    },
    {
      "cell_type": "code",
      "source": [
        "# 2. rho_all_in---> M_all_in\n",
        "x = sp.symbols('rho_all_in')\n",
        "f = (x-1)/x\n",
        "x_prime = sp.diff(f, x) #Derivative of M_all_in respect to rho_all_in\n",
        "x_value = rho_all_IN\n",
        "partial_M_all_in_rho_all_in = x_prime.subs(x,x_value)\n",
        "\n",
        "std_M_all_in = partial_M_all_in_rho_all_in*std_rho_all_in\n",
        "\n",
        "std_M_all_in_PLUS = M_all_in+std_M_all_in\n",
        "std_M_all_in_MINUS = M_all_in-std_M_all_in\n",
        "\n",
        "print(\"Standard deviation of M_all_in:\",std_M_all_in)\n",
        "print(\"M_all_in_PLUS:\",std_M_all_in_PLUS)\n",
        "print(\"M_all_in_MINUS:\",std_M_all_in_MINUS)\n",
        "print('M_all_in:',M_all_in, '±',std_M_all_in)"
      ],
      "metadata": {
        "colab": {
          "base_uri": "https://localhost:8080/"
        },
        "id": "vFu4bztOcEaQ",
        "outputId": "80d2dc89-01f9-496b-9ee8-cf826fffa68b"
      },
      "execution_count": null,
      "outputs": [
        {
          "output_type": "stream",
          "name": "stdout",
          "text": [
            "Standard deviation of M_all_in: 0.155159055958187\n",
            "M_all_in_PLUS: 33.5651590559582\n",
            "M_all_in_MINUS: 33.2548409440418\n",
            "M_all_in: 33.41 ± 0.155159055958187\n"
          ]
        }
      ]
    },
    {
      "cell_type": "code",
      "source": [
        "# 3. M_all_in---> alfa_phi_s\n",
        "x = sp.symbols('CR_all_in')\n",
        "y = sp.symbols('M_all_in')\n",
        "f = x/y\n",
        "x_prime = sp.diff(f, x) #Partial derivative of alpha_phi_s respect to M_all_in\n",
        "y_prime = sp.diff(f,y) #Partial derivative of alpha_phi_s respect to CR_all_in\n",
        "x_value = Mean_cps_all_in-Mean_cps_background #CR_all_in\n",
        "y_value = M_all_in\n",
        "partial_alphaphi_s_CR_all_in = x_prime.subs({x:x_value, y:y_value})\n",
        "partial_alphaphi_s_M_all_in = y_prime.subs({x:x_value, y:y_value})\n",
        "\n",
        "std_alphaphi_s = ((partial_alphaphi_s_M_all_in*std_M_all_in)**2 + (partial_alphaphi_s_CR_all_in*std_CR_all_in)**2)**(1/2)\n",
        "\n",
        "alphaphi_s_PLUS = alpha_phi_s+std_alphaphi_s\n",
        "alphaphi_s_MINUS = alpha_phi_s-std_alphaphi_s\n",
        "\n",
        "print(\"Standard deviation of alphaphi_s:\",std_alphaphi_s)\n",
        "print(\"alphaphi_PLUS:\",alphaphi_s_PLUS)\n",
        "print(\"alphaphi_MINUS\",alphaphi_s_MINUS)\n",
        "print('alphaphi_s:',alpha_phi_s, '±',std_alphaphi_s)"
      ],
      "metadata": {
        "colab": {
          "base_uri": "https://localhost:8080/"
        },
        "id": "L76awl7EfQ0X",
        "outputId": "e94a8604-4ca2-4752-ced1-9a869151156c"
      },
      "execution_count": null,
      "outputs": [
        {
          "output_type": "stream",
          "name": "stdout",
          "text": [
            "Standard deviation of alphaphi_s: 0.00462506723636033\n",
            "alphaphi_PLUS: 0.323725067236360\n",
            "alphaphi_MINUS 0.314474932763640\n",
            "alphaphi_s: 0.3191 ± 0.00462506723636033\n"
          ]
        }
      ]
    },
    {
      "cell_type": "code",
      "source": [
        "# 4. alfa_phi_s---> M_reg_out\n",
        "x = sp.symbols('CR_Reg_out')\n",
        "y = sp.symbols('alpha_phi')\n",
        "f = x/y\n",
        "x_prime = sp.diff(f, x) #Partial derivative of M_Reg_out respect to CR_Reg_out\n",
        "y_prime = sp.diff(f,y) #Partial derivative of M_Reg_out respect to alpha_phi_s\n",
        "x_value = Mean_cps_Reg_out-Mean_cps_background #CR_Reg_out\n",
        "y_value = alpha_phi_s\n",
        "partial_M_Reg_out_CR_Reg_out = x_prime.subs({x:x_value, y:y_value})\n",
        "partial_M_Reg_out_alphaphi_s = y_prime.subs({x:x_value, y:y_value})\n",
        "\n",
        "std_M_reg_out = ((partial_M_Reg_out_CR_Reg_out*std_CR_reg_out)**2 + (partial_M_Reg_out_alphaphi_s*std_alphaphi_s)**2)**(1/2)\n",
        "\n",
        "M_reg_out_PLUS = M_reg_out+std_M_reg_out\n",
        "M_reg_out_MINUS = M_reg_out-std_M_reg_out\n",
        "\n",
        "print(\"Standard deviation of M_reg_out:\",std_M_reg_out)\n",
        "print(\"M_reg_out_PLUS:\",M_reg_out_PLUS)\n",
        "print(\"M_reg_out_MINUS\",M_reg_out_MINUS)\n",
        "print('M_reg_out:',M_reg_out, '±',std_M_reg_out)"
      ],
      "metadata": {
        "colab": {
          "base_uri": "https://localhost:8080/"
        },
        "id": "UgSCp3-Hgcpb",
        "outputId": "db130e27-55a7-444d-e7c6-f5422356cba7"
      },
      "execution_count": null,
      "outputs": [
        {
          "output_type": "stream",
          "name": "stdout",
          "text": [
            "Standard deviation of M_reg_out: 0.882649576127446\n",
            "M_reg_out_PLUS: 48.6326495761274\n",
            "M_reg_out_MINUS 46.8673504238726\n",
            "M_reg_out: 47.75 ± 0.882649576127446\n"
          ]
        }
      ]
    },
    {
      "cell_type": "code",
      "source": [
        "# 4. alfa_phi_s---> M_trans_out\n",
        "x = sp.symbols('CR_Trans_out')\n",
        "y = sp.symbols('alpha_phi')\n",
        "f = x/y\n",
        "x_prime = sp.diff(f, x) #Partial derivative of M_Trans_out respect to CR_Trans_out\n",
        "y_prime = sp.diff(f,y) #Partial derivative of M_Trans_out respect to alpha_phi_s\n",
        "x_value = Mean_cps_Trans_out-Mean_cps_background #CR_Trans_out\n",
        "y_value = alpha_phi_s\n",
        "partial_M_Trans_out_CR_Trans_out = x_prime.subs({x:x_value, y:y_value})\n",
        "partial_M_Trans_out_alphaphi_s = y_prime.subs({x:x_value, y:y_value})\n",
        "\n",
        "std_M_trans_out = ((partial_M_Trans_out_CR_Trans_out*std_CR_trans_out)**2 + (partial_M_Trans_out_alphaphi_s*std_alphaphi_s)**2)**(1/2)\n",
        "\n",
        "M_trans_out_PLUS = M_trans_out+std_M_trans_out\n",
        "M_trans_out_MINUS = M_trans_out-std_M_trans_out\n",
        "\n",
        "print(\"Standard deviation of M_trans_out:\",std_M_trans_out)\n",
        "print(\"M_trans_out_PLUS:\",M_trans_out_PLUS)\n",
        "print(\"M_trans_out_MINUS\",M_trans_out_MINUS)\n",
        "print('M_trans_out:',M_trans_out, '±',std_M_trans_out)"
      ],
      "metadata": {
        "colab": {
          "base_uri": "https://localhost:8080/"
        },
        "id": "qhuUZWwFlO12",
        "outputId": "34a0da1b-f7c7-4daf-f823-804d55380d83"
      },
      "execution_count": null,
      "outputs": [
        {
          "output_type": "stream",
          "name": "stdout",
          "text": [
            "Standard deviation of M_trans_out: 1.33042294895173\n",
            "M_trans_out_PLUS: 79.4504229489517\n",
            "M_trans_out_MINUS 76.7895770510483\n",
            "M_trans_out: 78.12 ± 1.33042294895173\n"
          ]
        }
      ]
    },
    {
      "cell_type": "code",
      "source": [
        "# 4. alfa_phi_s---> M_shim_out\n",
        "x = sp.symbols('CR_Shim_out')\n",
        "y = sp.symbols('alpha_phi')\n",
        "f = x/y\n",
        "x_prime = sp.diff(f, x) #Partial derivative of M_Shim_out respect to CR_Shim_out\n",
        "y_prime = sp.diff(f,y) #Partial derivative of M_Shim_out respect to alpha_phi_s\n",
        "x_value = Mean_cps_Shim_out-Mean_cps_background #CR_Shim_out\n",
        "y_value = alpha_phi_s\n",
        "partial_M_Shim_out_CR_Shim_out = x_prime.subs({x:x_value, y:y_value})\n",
        "partial_M_Shim_out_alphaphi_s = y_prime.subs({x:x_value, y:y_value})\n",
        "\n",
        "std_M_shim_out = ((partial_M_Shim_out_CR_Shim_out*std_CR_shim_out)**2 + (partial_M_Shim_out_alphaphi_s*std_alphaphi_s)**2)**(1/2)\n",
        "\n",
        "M_shim_out_PLUS = M_shim_out+std_M_shim_out\n",
        "M_shim_out_MINUS = M_shim_out-std_M_shim_out\n",
        "\n",
        "print(\"Standard deviation of M_shim_out:\",std_M_shim_out)\n",
        "print(\"M_shim_out_PLUS:\",M_shim_out_PLUS)\n",
        "print(\"M_shim_out_MINUS\",M_shim_out_MINUS)\n",
        "print('M_shim_out:',M_shim_out, '±',std_M_shim_out)"
      ],
      "metadata": {
        "colab": {
          "base_uri": "https://localhost:8080/"
        },
        "id": "QkVGMbu_mgOF",
        "outputId": "49e7e02c-fec6-4094-a401-3ab9cbd93cf0"
      },
      "execution_count": null,
      "outputs": [
        {
          "output_type": "stream",
          "name": "stdout",
          "text": [
            "Standard deviation of M_shim_out: 2.19265729249868\n",
            "M_shim_out_PLUS: 139.292657292499\n",
            "M_shim_out_MINUS 134.907342707501\n",
            "M_shim_out: 137.1 ± 2.19265729249868\n"
          ]
        }
      ]
    },
    {
      "cell_type": "code",
      "source": [
        "# 5. M_reg_out---> rho_reg_out\n",
        "x = sp.symbols('M_reg_out')\n",
        "f = 1/(1-x)\n",
        "x_prime = sp.diff(f, x) #Derivative of rho_reg_out respect to M_reg_out\n",
        "x_value = M_reg_out\n",
        "partial_rho_reg_out_M_reg_out = x_prime.subs(x,x_value)\n",
        "\n",
        "std_rho_reg_out = partial_rho_reg_out_M_reg_out*std_M_reg_out\n",
        "\n",
        "rho_reg_out_PLUS = rho_reg_out+std_rho_reg_out\n",
        "rho_reg_out_MINUS = rho_reg_out-std_rho_reg_out\n",
        "\n",
        "print(\"Standard deviation of M_reg_out:\",std_rho_reg_out)\n",
        "print(\"rho_reg_out_PLUS\",rho_reg_out_PLUS)\n",
        "print(\"rho_reg_out_MINUS\",rho_reg_out_MINUS)\n",
        "print('rho_reg_out:',rho_reg_out, '±',std_rho_reg_out)"
      ],
      "metadata": {
        "colab": {
          "base_uri": "https://localhost:8080/"
        },
        "id": "5cy4wXH9hTpw",
        "outputId": "2e36575a-133f-45a3-91aa-4e03e23fc0b1"
      },
      "execution_count": null,
      "outputs": [
        {
          "output_type": "stream",
          "name": "stdout",
          "text": [
            "Standard deviation of M_reg_out: 0.000403854648918732\n",
            "rho_reg_out_PLUS -0.0209961453510813\n",
            "rho_reg_out_MINUS -0.0218038546489187\n",
            "rho_reg_out: -0.0214 ± 0.000403854648918732\n"
          ]
        }
      ]
    },
    {
      "cell_type": "code",
      "source": [
        "# 5. M_trans_out---> rho_trans_out\n",
        "x = sp.symbols('M_trans_out')\n",
        "f = 1/(1-x)\n",
        "x_prime = sp.diff(f, x) #Derivative of rho_trans_out respect to M_trans_out\n",
        "x_value = M_trans_out\n",
        "partial_rho_trans_out_M_trans_out = x_prime.subs(x, x_value)\n",
        "\n",
        "std_rho_trans_out = partial_rho_trans_out_M_trans_out * std_M_trans_out\n",
        "\n",
        "rho_trans_out_PLUS = rho_trans_out + std_rho_trans_out\n",
        "rho_trans_out_MINUS = rho_trans_out - std_rho_trans_out\n",
        "\n",
        "print(\"Standard deviation of M_trans_out:\", std_rho_trans_out)\n",
        "print(\"rho_trans_out_PLUS\", rho_trans_out_PLUS)\n",
        "print(\"rho_trans_out_MINUS\", rho_trans_out_MINUS)\n",
        "print('rho_trans_out:', rho_trans_out, '±', std_rho_trans_out)"
      ],
      "metadata": {
        "colab": {
          "base_uri": "https://localhost:8080/"
        },
        "id": "LgUxcX9Pnu2n",
        "outputId": "08e306df-65ed-4ee3-ac14-a23e22268b6b"
      },
      "execution_count": null,
      "outputs": [
        {
          "output_type": "stream",
          "name": "stdout",
          "text": [
            "Standard deviation of M_trans_out: 0.000223694695526191\n",
            "rho_trans_out_PLUS -0.0127763053044738\n",
            "rho_trans_out_MINUS -0.0132236946955262\n",
            "rho_trans_out: -0.013 ± 0.000223694695526191\n"
          ]
        }
      ]
    },
    {
      "cell_type": "code",
      "source": [
        "# 5. M_Shim_out---> rho_Shim_out\n",
        "x = sp.symbols('M_Shim_out')\n",
        "f = 1 / (1 - x)\n",
        "x_prime = sp.diff(f, x)  # Derivative of rho_Shim_out respect to M_Shim_out\n",
        "x_value = M_shim_out\n",
        "partial_rho_Shim_out_M_Shim_out = x_prime.subs(x, x_value)\n",
        "\n",
        "std_rho_shim_out = partial_rho_Shim_out_M_Shim_out * std_M_shim_out\n",
        "\n",
        "rho_shim_out_PLUS = rho_shim_out + std_rho_shim_out\n",
        "rho_shim_out_MINUS = rho_shim_out - std_rho_shim_out\n",
        "\n",
        "print(\"Standard deviation of M_Shim_out:\", std_rho_shim_out)\n",
        "print(\"rho_shim_out_PLUS\", rho_shim_out_PLUS)\n",
        "print(\"rho_shim_out_MINUS\", rho_shim_out_MINUS)\n",
        "print('rho_shim_out:', rho_shim_out, '±', std_rho_shim_out)"
      ],
      "metadata": {
        "colab": {
          "base_uri": "https://localhost:8080/"
        },
        "id": "_dtDA8ljoJT_",
        "outputId": "0d83c1ba-cdbf-4ab1-f1f5-287a597f4090"
      },
      "execution_count": null,
      "outputs": [
        {
          "output_type": "stream",
          "name": "stdout",
          "text": [
            "Standard deviation of M_Shim_out: 0.000118373505051159\n",
            "rho_shim_out_PLUS -0.00718162649494884\n",
            "rho_shim_out_MINUS -0.00741837350505116\n",
            "rho_shim_out: -0.0073 ± 0.000118373505051159\n"
          ]
        }
      ]
    },
    {
      "cell_type": "code",
      "source": [
        "# 6. rho_reg_out---> CRW_reg_out\n",
        "\n",
        "x = sp.symbols('rho_reg_out')\n",
        "y = sp.symbols('rho_all_in')\n",
        "f = x-y\n",
        "x_prime = sp.diff(f, x) #Partial derivative of CRW_Reg respect to rho_reg_out\n",
        "y_prime = sp.diff(f,y) #Partial derivative of CRW_Reg respect to rho_all_in\n",
        "x_value = rho_reg_out\n",
        "y_value = rho_all_IN\n",
        "partial_CRW_Reg_rho_reg_out = x_prime.subs({x:x_value, y:y_value})\n",
        "partial_CRW_Reg_rho_all_in= y_prime.subs({x:x_value, y:y_value})\n",
        "\n",
        "std_CRW_reg_out = ((partial_CRW_Reg_rho_reg_out*std_rho_reg_out)**2 + (partial_CRW_Reg_rho_all_in*std_rho_all_in)**2)**(1/2)\n",
        "\n",
        "CRW_reg_out_PLUS = (CRW_Reg+std_CRW_reg_out)/beta\n",
        "CRW_reg_out_MINUS = (CRW_Reg-std_CRW_reg_out)/beta\n",
        "\n",
        "print(\"Standard deviation of CRW_reg_out:\",std_CRW_reg_out)\n",
        "print(\"CRW_reg_out_PLUS in $:\",CRW_reg_out_PLUS)\n",
        "print(\"CRW_reg_out_MINUS in $\",CRW_reg_out_MINUS)\n",
        "print('CRW_reg_out:',CRW_Reg/beta, '±',std_CRW_reg_out/beta)"
      ],
      "metadata": {
        "colab": {
          "base_uri": "https://localhost:8080/"
        },
        "id": "O24xHRDUh22I",
        "outputId": "49cb9fd2-80c1-495c-e216-b01c71a304ba"
      },
      "execution_count": null,
      "outputs": [
        {
          "output_type": "stream",
          "name": "stdout",
          "text": [
            "Standard deviation of CRW_reg_out: 0.000430005259696903\n",
            "CRW_reg_out_PLUS in $: 1.35890483009547\n",
            "CRW_reg_out_MINUS in $ 1.24109516990453\n",
            "CRW_reg_out: 1.3 ± 0.0589048300954662\n"
          ]
        }
      ]
    },
    {
      "cell_type": "code",
      "source": [
        "# 6. rho_trans_out---> CRW_trans_out\n",
        "\n",
        "x = sp.symbols('rho_trans_out')\n",
        "y = sp.symbols('rho_all_in')\n",
        "f = x - y\n",
        "x_prime = sp.diff(f, x)  # Partial derivative of CRW_Trans respect to rho_trans_out\n",
        "y_prime = sp.diff(f, y)  # Partial derivative of CRW_Trans respect to rho_all_in\n",
        "x_value = rho_trans_out\n",
        "y_value = rho_all_IN\n",
        "partial_CRW_Trans_rho_trans_out = x_prime.subs({x: x_value, y: y_value})\n",
        "partial_CRW_Trans_rho_all_in = y_prime.subs({x: x_value, y: y_value})\n",
        "\n",
        "std_CRW_trans_out = ((partial_CRW_Trans_rho_trans_out * std_rho_trans_out)**2 + (partial_CRW_Trans_rho_all_in * std_rho_all_in)**2)**(1/2)\n",
        "\n",
        "CRW_trans_out_PLUS = (CRW_Trans + std_CRW_trans_out) / beta\n",
        "CRW_trans_out_MINUS = (CRW_Trans - std_CRW_trans_out) / beta\n",
        "\n",
        "print(\"Standard deviation of CRW_trans_out:\", std_CRW_trans_out)\n",
        "print(\"CRW_trans_out_PLUS in $:\", CRW_trans_out_PLUS)\n",
        "print(\"CRW_trans_out_MINUS in $\", CRW_trans_out_MINUS)\n",
        "print('CRW_trans_out:', CRW_Trans / beta, '±', std_CRW_trans_out / beta)"
      ],
      "metadata": {
        "colab": {
          "base_uri": "https://localhost:8080/"
        },
        "id": "b376nZtppOZm",
        "outputId": "42988b44-8c90-4e7c-e0ed-19d4021126a2"
      },
      "execution_count": null,
      "outputs": [
        {
          "output_type": "stream",
          "name": "stdout",
          "text": [
            "Standard deviation of CRW_trans_out: 0.000268039666318782\n",
            "CRW_trans_out_PLUS in $: 2.48671776250942\n",
            "CRW_trans_out_MINUS in $ 2.41328223749058\n",
            "CRW_trans_out: 2.45 ± 0.0367177625094222\n"
          ]
        }
      ]
    },
    {
      "cell_type": "code",
      "source": [
        "# 6. rho_shim_out---> CRW_shim_out\n",
        "\n",
        "x = sp.symbols('rho_shim_out')\n",
        "y = sp.symbols('rho_all_in')\n",
        "f = x - y\n",
        "x_prime = sp.diff(f, x)  # Partial derivative of CRW_Shim respect to rho_shim_out\n",
        "y_prime = sp.diff(f, y)  # Partial derivative of CRW_Shim respect to rho_all_in\n",
        "x_value = rho_shim_out\n",
        "y_value = rho_all_IN\n",
        "partial_CRW_Shim_rho_shim_out = x_prime.subs({x: x_value, y: y_value})\n",
        "partial_CRW_Shim_rho_all_in = y_prime.subs({x: x_value, y: y_value})\n",
        "\n",
        "std_CRW_shim_out = ((partial_CRW_Shim_rho_shim_out * std_rho_shim_out)**2 + (partial_CRW_Shim_rho_all_in * std_rho_all_in)**2)**(1/2)\n",
        "\n",
        "CRW_shim_out_PLUS = (CRW_Shim + std_CRW_shim_out) / beta\n",
        "CRW_shim_out_MINUS = (CRW_Shim - std_CRW_shim_out) / beta\n",
        "\n",
        "print(\"Standard deviation of CRW_shim_out:\", std_CRW_shim_out)\n",
        "print(\"CRW_shim_out_PLUS in $:\", CRW_shim_out_PLUS)\n",
        "print(\"CRW_shim_out_MINUS in $\", CRW_shim_out_MINUS)\n",
        "print('CRW_shim_out:', CRW_Shim / beta, '±', std_CRW_shim_out / beta)"
      ],
      "metadata": {
        "colab": {
          "base_uri": "https://localhost:8080/"
        },
        "id": "jAfqCYkfpmEk",
        "outputId": "35a36f67-a467-47b1-bdde-0cbb00c73368"
      },
      "execution_count": null,
      "outputs": [
        {
          "output_type": "stream",
          "name": "stdout",
          "text": [
            "Standard deviation of CRW_shim_out: 0.000189257054325131\n",
            "CRW_shim_out_PLUS in $: 3.24592562388015\n",
            "CRW_shim_out_MINUS in $ 3.19407437611985\n",
            "CRW_shim_out: 3.22 ± 0.0259256238801549\n"
          ]
        }
      ]
    }
  ]
}